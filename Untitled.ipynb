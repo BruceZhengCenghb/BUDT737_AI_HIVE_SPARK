{
 "cells": [
  {
   "cell_type": "code",
   "execution_count": null,
   "id": "8f5eefcd",
   "metadata": {},
   "outputs": [],
   "source": [
    "!pip install spark\n"
   ]
  },
  {
   "cell_type": "code",
   "execution_count": 3,
   "id": "cc961015",
   "metadata": {},
   "outputs": [
    {
     "name": "stdout",
     "output_type": "stream",
     "text": [
      "Collecting pyspark\n",
      "  Downloading pyspark-3.3.1.tar.gz (281.4 MB)\n",
      "\u001b[K     |████████████████████████████████| 281.4 MB 93 kB/s  eta 0:00:012    |████████▉                       | 77.2 MB 2.1 MB/s eta 0:01:37            | 105.6 MB 4.3 MB/s eta 0:00:42     |████████████████████████████▊   | 252.8 MB 2.6 MB/s eta 0:00:12\n",
      "\u001b[?25hCollecting py4j==0.10.9.5\n",
      "  Downloading py4j-0.10.9.5-py2.py3-none-any.whl (199 kB)\n",
      "\u001b[K     |████████████████████████████████| 199 kB 2.5 MB/s eta 0:00:01\n",
      "\u001b[?25hBuilding wheels for collected packages: pyspark\n",
      "  Building wheel for pyspark (setup.py) ... \u001b[?25ldone\n",
      "\u001b[?25h  Created wheel for pyspark: filename=pyspark-3.3.1-py2.py3-none-any.whl size=281845515 sha256=8291a1463be94cb1cbad9307f6c7cf6331f9fe32c3bed10aada30b3cbcd1db57\n",
      "  Stored in directory: /Users/bruceshum/Library/Caches/pip/wheels/43/dc/11/ec201cd671da62fa9c5cc77078235e40722170ceba231d7598\n",
      "Successfully built pyspark\n",
      "Installing collected packages: py4j, pyspark\n",
      "Successfully installed py4j-0.10.9.5 pyspark-3.3.1\n"
     ]
    }
   ],
   "source": [
    "!pip install pyspark"
   ]
  },
  {
   "cell_type": "code",
   "execution_count": 4,
   "id": "645e6ff6",
   "metadata": {},
   "outputs": [],
   "source": [
    "import pyspark"
   ]
  },
  {
   "cell_type": "code",
   "execution_count": null,
   "id": "59c0e4b6",
   "metadata": {},
   "outputs": [],
   "source": [
    "df_pyspark = spark.read_csv"
   ]
  },
  {
   "cell_type": "code",
   "execution_count": null,
   "id": "ae71816b",
   "metadata": {},
   "outputs": [],
   "source": [
    "pd.get_dummies(pd['genre', ])\n",
    "\n",
    "title_df_summied = pd.concat([title_df, title_df['generes'].str.get_dummies(sep=',', prefix = 'generes', prefix_sep = '_')], axis = 1)"
   ]
  }
 ],
 "metadata": {
  "kernelspec": {
   "display_name": "Python 3",
   "language": "python",
   "name": "python3"
  },
  "language_info": {
   "codemirror_mode": {
    "name": "ipython",
    "version": 3
   },
   "file_extension": ".py",
   "mimetype": "text/x-python",
   "name": "python",
   "nbconvert_exporter": "python",
   "pygments_lexer": "ipython3",
   "version": "3.8.8"
  }
 },
 "nbformat": 4,
 "nbformat_minor": 5
}
